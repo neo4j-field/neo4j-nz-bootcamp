{
 "cells": [
  {
   "cell_type": "markdown",
   "id": "eed9b021-069a-4c93-bb8a-bdea6563f4ab",
   "metadata": {},
   "source": [
    "# Example Python Development using Neo4j\n",
    "\n",
    "Click on the link below to open a Colab version of the notebook. You will be able to create your own version."
   ]
  },
  {
   "cell_type": "markdown",
   "id": "74f4ca6b-e59b-46c1-9b84-a7824d88fec4",
   "metadata": {},
   "source": [
    "<table align=\"left\">\n",
    "\n",
    "  <td>\n",
    "    <a href=\"https://colab.research.google.com/github.com/neo4j-field/neo4j-nz-bootcamp/blob/master/100_neo4j_python_development/neo4j_python_example.ipynb\" target=\"_blank\">\n",
    "      <img src=\"https://cloud.google.com/ml-engine/images/colab-logo-32px.png\" alt=\"Colab logo\">Run your own notebook in Colab\n",
    "    </a>\n",
    "  </td>\n",
    "</table>"
   ]
  },
  {
   "cell_type": "markdown",
   "id": "cabbb20f-a7d3-4727-80af-cb45bce2cc41",
   "metadata": {},
   "source": [
    "## Install `neo4j` Python Library"
   ]
  },
  {
   "cell_type": "code",
   "execution_count": null,
   "id": "551228e0-c2bc-46e6-8e66-773904a01753",
   "metadata": {},
   "outputs": [],
   "source": [
    "# Install Neo4j Python Client\n",
    "import sys\n",
    "!{sys.executable} -m pip install neo4j"
   ]
  },
  {
   "cell_type": "markdown",
   "id": "98d9798d-c63c-4700-b233-90975cd7bd8e",
   "metadata": {},
   "source": [
    "## Import Library"
   ]
  },
  {
   "cell_type": "code",
   "execution_count": 1,
   "id": "19cb5b56-7841-4142-8124-5005f03d1573",
   "metadata": {},
   "outputs": [],
   "source": [
    "from neo4j import GraphDatabase\n",
    "\n",
    "import numpy as np\n",
    "import pandas as pd\n",
    "import json"
   ]
  },
  {
   "cell_type": "markdown",
   "id": "70011d0b-8305-446c-9955-02c51efd75f1",
   "metadata": {},
   "source": [
    "## Neo4j Helper Function"
   ]
  },
  {
   "cell_type": "code",
   "execution_count": 2,
   "id": "b1a7636c-3072-42e3-b6be-697cced24c4b",
   "metadata": {},
   "outputs": [],
   "source": [
    "class Neo4jConnection:\n",
    "    \n",
    "    def __init__(self, uri, user, pwd):\n",
    "        self.__uri = uri\n",
    "        self.__user = user\n",
    "        self.__pwd = pwd\n",
    "        self.__driver = None\n",
    "        try:\n",
    "            self.__driver = GraphDatabase.driver(self.__uri, auth=(self.__user, self.__pwd))\n",
    "        except Exception as e:\n",
    "            print(\"Failed to create the driver:\", e)\n",
    "        \n",
    "    def close(self):\n",
    "        if self.__driver is not None:\n",
    "            self.__driver.close()\n",
    "        \n",
    "    def query(self, query, parameters=None, db=None):\n",
    "        assert self.__driver is not None, \"Driver not initialized!\"\n",
    "        session = None\n",
    "        response = None\n",
    "        try: \n",
    "            session = self.__driver.session(database=db) if db is not None else self.__driver.session() \n",
    "            response = list(session.run(query, parameters))\n",
    "        except Exception as e:\n",
    "            print(\"Query failed:\", e)\n",
    "        finally: \n",
    "            if session is not None:\n",
    "                session.close()\n",
    "        return response"
   ]
  },
  {
   "cell_type": "markdown",
   "id": "3d7dce26-3d06-4faa-a3a1-0f3dbf995de4",
   "metadata": {},
   "source": [
    "## Credentials\n",
    "\n",
    "Please change the value of the password and database name which is your username"
   ]
  },
  {
   "cell_type": "code",
   "execution_count": 3,
   "id": "9e444f92-cd1b-4bc8-afe4-0bfd8abcd36a",
   "metadata": {},
   "outputs": [],
   "source": [
    "# Change URL\n",
    "uri = \"URL_HERE:7687\"\n",
    "user=\"neo4j\"\n",
    "# Change Password\n",
    "pwd = \"PW_HERE\"\n",
    "db=\"neo4j\""
   ]
  },
  {
   "cell_type": "markdown",
   "id": "ed6ea68a-6c77-444b-872f-1e293ffc762c",
   "metadata": {},
   "source": [
    "## Connect to Neo4j Database"
   ]
  },
  {
   "cell_type": "code",
   "execution_count": 4,
   "id": "1bc8b943-4608-4899-96f4-f312cdfa7bb5",
   "metadata": {},
   "outputs": [
    {
     "data": {
      "text/plain": [
       "[<Record COUNT(n)=1044>]"
      ]
     },
     "execution_count": 4,
     "metadata": {},
     "output_type": "execute_result"
    }
   ],
   "source": [
    "conn = Neo4jConnection(uri=uri, user=user, pwd=pwd)\n",
    "\n",
    "conn.query(\"MATCH (n) RETURN COUNT(n)\", db=db)"
   ]
  },
  {
   "cell_type": "markdown",
   "id": "bc9b6787-8e8e-402c-a285-780056f1cab2",
   "metadata": {},
   "source": [
    "## Clean Database"
   ]
  },
  {
   "cell_type": "code",
   "execution_count": 5,
   "id": "e83f115f-0719-4da7-bb23-35e815daa556",
   "metadata": {},
   "outputs": [],
   "source": [
    "# query = '''\n",
    "# MATCH(n) DETACH DELETE n\n",
    "# '''\n",
    "# result = conn.query(query, db=db)"
   ]
  },
  {
   "cell_type": "markdown",
   "id": "4288acf9-4850-49fa-92d5-2229ab6d300e",
   "metadata": {},
   "source": [
    "## Create node data"
   ]
  },
  {
   "cell_type": "code",
   "execution_count": 16,
   "id": "2e2e4bed-5950-48aa-b7d1-e38325655bdb",
   "metadata": {},
   "outputs": [],
   "source": [
    "pdf_categories = pd.read_csv(\"https://raw.githubusercontent.com/adam-cowley/northwind-neo4j/master/data/categories.csv\")"
   ]
  },
  {
   "cell_type": "code",
   "execution_count": 17,
   "id": "fe4fc9e7-8f08-47b2-a38d-b4e7959d95d7",
   "metadata": {},
   "outputs": [
    {
     "data": {
      "text/html": [
       "<div>\n",
       "<style scoped>\n",
       "    .dataframe tbody tr th:only-of-type {\n",
       "        vertical-align: middle;\n",
       "    }\n",
       "\n",
       "    .dataframe tbody tr th {\n",
       "        vertical-align: top;\n",
       "    }\n",
       "\n",
       "    .dataframe thead th {\n",
       "        text-align: right;\n",
       "    }\n",
       "</style>\n",
       "<table border=\"1\" class=\"dataframe\">\n",
       "  <thead>\n",
       "    <tr style=\"text-align: right;\">\n",
       "      <th></th>\n",
       "      <th>categoryID</th>\n",
       "      <th>categoryName</th>\n",
       "      <th>description</th>\n",
       "      <th>picture</th>\n",
       "    </tr>\n",
       "  </thead>\n",
       "  <tbody>\n",
       "    <tr>\n",
       "      <th>0</th>\n",
       "      <td>1</td>\n",
       "      <td>Beverages</td>\n",
       "      <td>Soft drinks, coffees, teas, beers, and ales</td>\n",
       "      <td>0x151C2F00020000000D000E0014002100FFFFFFFF4269...</td>\n",
       "    </tr>\n",
       "    <tr>\n",
       "      <th>1</th>\n",
       "      <td>2</td>\n",
       "      <td>Condiments</td>\n",
       "      <td>Sweet and savory sauces, relishes, spreads, an...</td>\n",
       "      <td>0x151C2F00020000000D000E0014002100FFFFFFFF4269...</td>\n",
       "    </tr>\n",
       "    <tr>\n",
       "      <th>2</th>\n",
       "      <td>3</td>\n",
       "      <td>Confections</td>\n",
       "      <td>Desserts, candies, and sweet breads</td>\n",
       "      <td>0x151C2F00020000000D000E0014002100FFFFFFFF4269...</td>\n",
       "    </tr>\n",
       "    <tr>\n",
       "      <th>3</th>\n",
       "      <td>4</td>\n",
       "      <td>Dairy Products</td>\n",
       "      <td>Cheeses</td>\n",
       "      <td>0x151C2F00020000000D000E0014002100FFFFFFFF4269...</td>\n",
       "    </tr>\n",
       "    <tr>\n",
       "      <th>4</th>\n",
       "      <td>5</td>\n",
       "      <td>Grains/Cereals</td>\n",
       "      <td>Breads, crackers, pasta, and cereal</td>\n",
       "      <td>0x151C2F00020000000D000E0014002100FFFFFFFF4269...</td>\n",
       "    </tr>\n",
       "  </tbody>\n",
       "</table>\n",
       "</div>"
      ],
      "text/plain": [
       "   categoryID    categoryName  \\\n",
       "0           1       Beverages   \n",
       "1           2      Condiments   \n",
       "2           3     Confections   \n",
       "3           4  Dairy Products   \n",
       "4           5  Grains/Cereals   \n",
       "\n",
       "                                         description  \\\n",
       "0        Soft drinks, coffees, teas, beers, and ales   \n",
       "1  Sweet and savory sauces, relishes, spreads, an...   \n",
       "2                Desserts, candies, and sweet breads   \n",
       "3                                            Cheeses   \n",
       "4                Breads, crackers, pasta, and cereal   \n",
       "\n",
       "                                             picture  \n",
       "0  0x151C2F00020000000D000E0014002100FFFFFFFF4269...  \n",
       "1  0x151C2F00020000000D000E0014002100FFFFFFFF4269...  \n",
       "2  0x151C2F00020000000D000E0014002100FFFFFFFF4269...  \n",
       "3  0x151C2F00020000000D000E0014002100FFFFFFFF4269...  \n",
       "4  0x151C2F00020000000D000E0014002100FFFFFFFF4269...  "
      ]
     },
     "execution_count": 17,
     "metadata": {},
     "output_type": "execute_result"
    }
   ],
   "source": [
    "pdf_categories.head()"
   ]
  },
  {
   "cell_type": "code",
   "execution_count": 25,
   "id": "47f2558a-fd5b-4048-a099-77b36c94e034",
   "metadata": {},
   "outputs": [],
   "source": [
    "query = '''\n",
    "UNWIND $rows AS row\n",
    "MERGE (c:Categories2 {categoryID: toString(row.categoryID)})\n",
    "ON CREATE SET c.categoryName = row.categoryName\n",
    "'''\n",
    "result = conn.query(query, parameters={'rows':pdf_categories.to_dict('records')}, db=db)"
   ]
  },
  {
   "cell_type": "markdown",
   "id": "ed1e161c-99d0-4e1d-90ac-f11109cc9cd3",
   "metadata": {},
   "source": [
    "## Connect Categories2 and Category"
   ]
  },
  {
   "cell_type": "code",
   "execution_count": 27,
   "id": "1704ee8b-bc60-4dd9-84e8-a81201bbce32",
   "metadata": {},
   "outputs": [],
   "source": [
    "query = '''\n",
    "UNWIND $rows AS row\n",
    "MATCH (c1:Categories2 {categoryID: toString(row.categoryID)})\n",
    "MATCH (c2:Category {categoryID: toString(row.categoryID)})\n",
    "MERGE (c1)-[:SAME_AS]->(c2);\n",
    "'''\n",
    "result = conn.query(query, parameters={'rows':pdf_categories.to_dict('records')}, db=db)"
   ]
  },
  {
   "cell_type": "markdown",
   "id": "4aefe2d9-23ff-4f03-9f59-86691792c81f",
   "metadata": {
    "tags": []
   },
   "source": [
    "## Data Retrieval"
   ]
  },
  {
   "cell_type": "code",
   "execution_count": 28,
   "id": "7be62085-6d0a-422c-b10c-487e3ddefbb7",
   "metadata": {},
   "outputs": [],
   "source": [
    "query = '''\n",
    "MATCH (c:Customer {customerID: $customerId})\n",
    "RETURN c;\n",
    "'''\n",
    "result = conn.query(query, parameters={\"customerId\": \"ANTON\"}, db=db)"
   ]
  },
  {
   "cell_type": "code",
   "execution_count": 29,
   "id": "2e41e0d5-a7f3-4e29-82af-1cb2304f70ba",
   "metadata": {},
   "outputs": [
    {
     "data": {
      "text/html": [
       "<div>\n",
       "<style scoped>\n",
       "    .dataframe tbody tr th:only-of-type {\n",
       "        vertical-align: middle;\n",
       "    }\n",
       "\n",
       "    .dataframe tbody tr th {\n",
       "        vertical-align: top;\n",
       "    }\n",
       "\n",
       "    .dataframe thead th {\n",
       "        text-align: right;\n",
       "    }\n",
       "</style>\n",
       "<table border=\"1\" class=\"dataframe\">\n",
       "  <thead>\n",
       "    <tr style=\"text-align: right;\">\n",
       "      <th></th>\n",
       "      <th>phone</th>\n",
       "      <th>companyName</th>\n",
       "      <th>customerID</th>\n",
       "      <th>fax</th>\n",
       "    </tr>\n",
       "  </thead>\n",
       "  <tbody>\n",
       "    <tr>\n",
       "      <th>0</th>\n",
       "      <td>(5) 555-3932</td>\n",
       "      <td>Antonio Moreno Taquería</td>\n",
       "      <td>ANTON</td>\n",
       "      <td>NULL</td>\n",
       "    </tr>\n",
       "  </tbody>\n",
       "</table>\n",
       "</div>"
      ],
      "text/plain": [
       "          phone              companyName customerID   fax\n",
       "0  (5) 555-3932  Antonio Moreno Taquería      ANTON  NULL"
      ]
     },
     "execution_count": 29,
     "metadata": {},
     "output_type": "execute_result"
    }
   ],
   "source": [
    "df_result = pd.DataFrame([dict(record[\"c\"]) for record in result])\n",
    "df_result"
   ]
  },
  {
   "cell_type": "code",
   "execution_count": null,
   "id": "01b079d9-f859-419d-b557-e9a6b47abd33",
   "metadata": {},
   "outputs": [],
   "source": []
  }
 ],
 "metadata": {
  "kernelspec": {
   "display_name": "Python 3 (ipykernel)",
   "language": "python",
   "name": "python3"
  },
  "language_info": {
   "codemirror_mode": {
    "name": "ipython",
    "version": 3
   },
   "file_extension": ".py",
   "mimetype": "text/x-python",
   "name": "python",
   "nbconvert_exporter": "python",
   "pygments_lexer": "ipython3",
   "version": "3.7.11"
  }
 },
 "nbformat": 4,
 "nbformat_minor": 5
}
